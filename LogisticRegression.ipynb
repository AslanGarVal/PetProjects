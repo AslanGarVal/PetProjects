{
 "cells": [
  {
   "cell_type": "code",
   "execution_count": 66,
   "metadata": {},
   "outputs": [],
   "source": [
    "import pandas as pd\n",
    "import matplotlib.pyplot as plt\n",
    "\n",
    "from sklearn.model_selection import train_test_split\n",
    "from sklearn.preprocessing import LabelEncoder, OneHotEncoder, scale\n",
    "from sklearn.linear_model import LogisticRegression\n",
    "from sklearn.metrics import mean_absolute_error, roc_curve, roc_auc_score"
   ]
  },
  {
   "cell_type": "code",
   "execution_count": 38,
   "metadata": {},
   "outputs": [
    {
     "data": {
      "text/html": [
       "<div>\n",
       "<style scoped>\n",
       "    .dataframe tbody tr th:only-of-type {\n",
       "        vertical-align: middle;\n",
       "    }\n",
       "\n",
       "    .dataframe tbody tr th {\n",
       "        vertical-align: top;\n",
       "    }\n",
       "\n",
       "    .dataframe thead th {\n",
       "        text-align: right;\n",
       "    }\n",
       "</style>\n",
       "<table border=\"1\" class=\"dataframe\">\n",
       "  <thead>\n",
       "    <tr style=\"text-align: right;\">\n",
       "      <th></th>\n",
       "      <th>User ID</th>\n",
       "      <th>Gender</th>\n",
       "      <th>Age</th>\n",
       "      <th>EstimatedSalary</th>\n",
       "      <th>Purchased</th>\n",
       "    </tr>\n",
       "  </thead>\n",
       "  <tbody>\n",
       "    <tr>\n",
       "      <td>0</td>\n",
       "      <td>15624510</td>\n",
       "      <td>Male</td>\n",
       "      <td>19</td>\n",
       "      <td>19000</td>\n",
       "      <td>0</td>\n",
       "    </tr>\n",
       "    <tr>\n",
       "      <td>1</td>\n",
       "      <td>15810944</td>\n",
       "      <td>Male</td>\n",
       "      <td>35</td>\n",
       "      <td>20000</td>\n",
       "      <td>0</td>\n",
       "    </tr>\n",
       "    <tr>\n",
       "      <td>2</td>\n",
       "      <td>15668575</td>\n",
       "      <td>Female</td>\n",
       "      <td>26</td>\n",
       "      <td>43000</td>\n",
       "      <td>0</td>\n",
       "    </tr>\n",
       "    <tr>\n",
       "      <td>3</td>\n",
       "      <td>15603246</td>\n",
       "      <td>Female</td>\n",
       "      <td>27</td>\n",
       "      <td>57000</td>\n",
       "      <td>0</td>\n",
       "    </tr>\n",
       "    <tr>\n",
       "      <td>4</td>\n",
       "      <td>15804002</td>\n",
       "      <td>Male</td>\n",
       "      <td>19</td>\n",
       "      <td>76000</td>\n",
       "      <td>0</td>\n",
       "    </tr>\n",
       "    <tr>\n",
       "      <td>...</td>\n",
       "      <td>...</td>\n",
       "      <td>...</td>\n",
       "      <td>...</td>\n",
       "      <td>...</td>\n",
       "      <td>...</td>\n",
       "    </tr>\n",
       "    <tr>\n",
       "      <td>395</td>\n",
       "      <td>15691863</td>\n",
       "      <td>Female</td>\n",
       "      <td>46</td>\n",
       "      <td>41000</td>\n",
       "      <td>1</td>\n",
       "    </tr>\n",
       "    <tr>\n",
       "      <td>396</td>\n",
       "      <td>15706071</td>\n",
       "      <td>Male</td>\n",
       "      <td>51</td>\n",
       "      <td>23000</td>\n",
       "      <td>1</td>\n",
       "    </tr>\n",
       "    <tr>\n",
       "      <td>397</td>\n",
       "      <td>15654296</td>\n",
       "      <td>Female</td>\n",
       "      <td>50</td>\n",
       "      <td>20000</td>\n",
       "      <td>1</td>\n",
       "    </tr>\n",
       "    <tr>\n",
       "      <td>398</td>\n",
       "      <td>15755018</td>\n",
       "      <td>Male</td>\n",
       "      <td>36</td>\n",
       "      <td>33000</td>\n",
       "      <td>0</td>\n",
       "    </tr>\n",
       "    <tr>\n",
       "      <td>399</td>\n",
       "      <td>15594041</td>\n",
       "      <td>Female</td>\n",
       "      <td>49</td>\n",
       "      <td>36000</td>\n",
       "      <td>1</td>\n",
       "    </tr>\n",
       "  </tbody>\n",
       "</table>\n",
       "<p>400 rows × 5 columns</p>\n",
       "</div>"
      ],
      "text/plain": [
       "      User ID  Gender  Age  EstimatedSalary  Purchased\n",
       "0    15624510    Male   19            19000          0\n",
       "1    15810944    Male   35            20000          0\n",
       "2    15668575  Female   26            43000          0\n",
       "3    15603246  Female   27            57000          0\n",
       "4    15804002    Male   19            76000          0\n",
       "..        ...     ...  ...              ...        ...\n",
       "395  15691863  Female   46            41000          1\n",
       "396  15706071    Male   51            23000          1\n",
       "397  15654296  Female   50            20000          1\n",
       "398  15755018    Male   36            33000          0\n",
       "399  15594041  Female   49            36000          1\n",
       "\n",
       "[400 rows x 5 columns]"
      ]
     },
     "execution_count": 38,
     "metadata": {},
     "output_type": "execute_result"
    }
   ],
   "source": [
    "#Haremos regresión logística para predecir la compra con los features dados\n",
    "#Este es un data set muy limpio, todas las variables son numericas salvo el genero\n",
    "suv_data = pd.read_csv(\"datasets_17233_22624_Social_Network_Ads.csv\")\n",
    "suv_data"
   ]
  },
  {
   "cell_type": "code",
   "execution_count": 89,
   "metadata": {},
   "outputs": [],
   "source": [
    "#Make the dataset more fit for the logit model by changing categorical variables into numeric\n",
    "#with one-hot encoding\n",
    "def processing(df):\n",
    "    cat_df = df.select_dtypes(include = [object])\n",
    "    cat_cols = cat_df.columns\n",
    "    \n",
    "    oh_enc = OneHotEncoder()\n",
    "    labels = pd.DataFrame(oh_enc.fit_transform(cat_df).toarray())\n",
    "    labels.columns = oh_enc.get_feature_names(cat_cols)\n",
    "    X = df.drop(cat_cols, axis = 1).join(labels)\n",
    "    return X\n",
    "X = processing(suv_data)"
   ]
  },
  {
   "cell_type": "code",
   "execution_count": 88,
   "metadata": {},
   "outputs": [
    {
     "data": {
      "text/html": [
       "<div>\n",
       "<style scoped>\n",
       "    .dataframe tbody tr th:only-of-type {\n",
       "        vertical-align: middle;\n",
       "    }\n",
       "\n",
       "    .dataframe tbody tr th {\n",
       "        vertical-align: top;\n",
       "    }\n",
       "\n",
       "    .dataframe thead th {\n",
       "        text-align: right;\n",
       "    }\n",
       "</style>\n",
       "<table border=\"1\" class=\"dataframe\">\n",
       "  <thead>\n",
       "    <tr style=\"text-align: right;\">\n",
       "      <th></th>\n",
       "      <th>User ID</th>\n",
       "      <th>Age</th>\n",
       "      <th>EstimatedSalary</th>\n",
       "      <th>Purchased</th>\n",
       "      <th>Gender_Female</th>\n",
       "      <th>Gender_Male</th>\n",
       "    </tr>\n",
       "  </thead>\n",
       "  <tbody>\n",
       "    <tr>\n",
       "      <td>0</td>\n",
       "      <td>15624510</td>\n",
       "      <td>19</td>\n",
       "      <td>19000</td>\n",
       "      <td>0</td>\n",
       "      <td>0.0</td>\n",
       "      <td>1.0</td>\n",
       "    </tr>\n",
       "    <tr>\n",
       "      <td>1</td>\n",
       "      <td>15810944</td>\n",
       "      <td>35</td>\n",
       "      <td>20000</td>\n",
       "      <td>0</td>\n",
       "      <td>0.0</td>\n",
       "      <td>1.0</td>\n",
       "    </tr>\n",
       "    <tr>\n",
       "      <td>2</td>\n",
       "      <td>15668575</td>\n",
       "      <td>26</td>\n",
       "      <td>43000</td>\n",
       "      <td>0</td>\n",
       "      <td>1.0</td>\n",
       "      <td>0.0</td>\n",
       "    </tr>\n",
       "    <tr>\n",
       "      <td>3</td>\n",
       "      <td>15603246</td>\n",
       "      <td>27</td>\n",
       "      <td>57000</td>\n",
       "      <td>0</td>\n",
       "      <td>1.0</td>\n",
       "      <td>0.0</td>\n",
       "    </tr>\n",
       "    <tr>\n",
       "      <td>4</td>\n",
       "      <td>15804002</td>\n",
       "      <td>19</td>\n",
       "      <td>76000</td>\n",
       "      <td>0</td>\n",
       "      <td>0.0</td>\n",
       "      <td>1.0</td>\n",
       "    </tr>\n",
       "    <tr>\n",
       "      <td>...</td>\n",
       "      <td>...</td>\n",
       "      <td>...</td>\n",
       "      <td>...</td>\n",
       "      <td>...</td>\n",
       "      <td>...</td>\n",
       "      <td>...</td>\n",
       "    </tr>\n",
       "    <tr>\n",
       "      <td>395</td>\n",
       "      <td>15691863</td>\n",
       "      <td>46</td>\n",
       "      <td>41000</td>\n",
       "      <td>1</td>\n",
       "      <td>1.0</td>\n",
       "      <td>0.0</td>\n",
       "    </tr>\n",
       "    <tr>\n",
       "      <td>396</td>\n",
       "      <td>15706071</td>\n",
       "      <td>51</td>\n",
       "      <td>23000</td>\n",
       "      <td>1</td>\n",
       "      <td>0.0</td>\n",
       "      <td>1.0</td>\n",
       "    </tr>\n",
       "    <tr>\n",
       "      <td>397</td>\n",
       "      <td>15654296</td>\n",
       "      <td>50</td>\n",
       "      <td>20000</td>\n",
       "      <td>1</td>\n",
       "      <td>1.0</td>\n",
       "      <td>0.0</td>\n",
       "    </tr>\n",
       "    <tr>\n",
       "      <td>398</td>\n",
       "      <td>15755018</td>\n",
       "      <td>36</td>\n",
       "      <td>33000</td>\n",
       "      <td>0</td>\n",
       "      <td>0.0</td>\n",
       "      <td>1.0</td>\n",
       "    </tr>\n",
       "    <tr>\n",
       "      <td>399</td>\n",
       "      <td>15594041</td>\n",
       "      <td>49</td>\n",
       "      <td>36000</td>\n",
       "      <td>1</td>\n",
       "      <td>1.0</td>\n",
       "      <td>0.0</td>\n",
       "    </tr>\n",
       "  </tbody>\n",
       "</table>\n",
       "<p>400 rows × 6 columns</p>\n",
       "</div>"
      ],
      "text/plain": [
       "      User ID  Age  EstimatedSalary  Purchased  Gender_Female  Gender_Male\n",
       "0    15624510   19            19000          0            0.0          1.0\n",
       "1    15810944   35            20000          0            0.0          1.0\n",
       "2    15668575   26            43000          0            1.0          0.0\n",
       "3    15603246   27            57000          0            1.0          0.0\n",
       "4    15804002   19            76000          0            0.0          1.0\n",
       "..        ...  ...              ...        ...            ...          ...\n",
       "395  15691863   46            41000          1            1.0          0.0\n",
       "396  15706071   51            23000          1            0.0          1.0\n",
       "397  15654296   50            20000          1            1.0          0.0\n",
       "398  15755018   36            33000          0            0.0          1.0\n",
       "399  15594041   49            36000          1            1.0          0.0\n",
       "\n",
       "[400 rows x 6 columns]"
      ]
     },
     "execution_count": 88,
     "metadata": {},
     "output_type": "execute_result"
    }
   ],
   "source": [
    "X"
   ]
  },
  {
   "cell_type": "code",
   "execution_count": 90,
   "metadata": {},
   "outputs": [],
   "source": [
    "#We split the data into 70% training, 30% validation\n",
    "train, test = train_test_split(X, test_size = 0.3, random_state = 1)\n",
    "y_train = train['Purchased']"
   ]
  },
  {
   "cell_type": "code",
   "execution_count": 91,
   "metadata": {},
   "outputs": [
    {
     "data": {
      "text/plain": [
       "(      User ID  Age  EstimatedSalary  Gender_Female  Gender_Male\n",
       " 39   15782806   27            31000            1.0          0.0\n",
       " 167  15614827   35            71000            1.0          0.0\n",
       " 383  15707634   49            28000            0.0          1.0\n",
       " 221  15663161   35            91000            0.0          1.0\n",
       " 351  15591279   37            75000            0.0          1.0\n",
       " ..        ...  ...              ...            ...          ...\n",
       " 255  15750056   52            90000            1.0          0.0\n",
       " 72   15595228   20            23000            1.0          0.0\n",
       " 396  15706071   51            23000            0.0          1.0\n",
       " 235  15646227   46            79000            0.0          1.0\n",
       " 37   15689425   30            49000            0.0          1.0\n",
       " \n",
       " [280 rows x 5 columns], 39     0\n",
       " 167    0\n",
       " 383    1\n",
       " 221    1\n",
       " 351    0\n",
       "       ..\n",
       " 255    1\n",
       " 72     0\n",
       " 396    1\n",
       " 235    1\n",
       " 37     0\n",
       " Name: Purchased, Length: 280, dtype: int64)"
      ]
     },
     "execution_count": 91,
     "metadata": {},
     "output_type": "execute_result"
    }
   ],
   "source": [
    "#variable & target\n",
    "X_train = train.drop(['Purchased'], axis = 1)\n",
    "X_train, y_train"
   ]
  },
  {
   "cell_type": "code",
   "execution_count": 8,
   "metadata": {},
   "outputs": [
    {
     "data": {
      "text/plain": [
       "LogisticRegression(C=1.0, class_weight=None, dual=False, fit_intercept=True,\n",
       "                   intercept_scaling=1, l1_ratio=None, max_iter=100,\n",
       "                   multi_class='warn', n_jobs=None, penalty='l2',\n",
       "                   random_state=None, solver='lbfgs', tol=0.0001, verbose=0,\n",
       "                   warm_start=False)"
      ]
     },
     "execution_count": 8,
     "metadata": {},
     "output_type": "execute_result"
    }
   ],
   "source": [
    "#We create and fit the logit model\n",
    "log_reg = LogisticRegression(solver = 'lbfgs')\n",
    "log_reg.fit(X_train, y_train)"
   ]
  },
  {
   "cell_type": "code",
   "execution_count": 9,
   "metadata": {},
   "outputs": [
    {
     "name": "stdout",
     "output_type": "stream",
     "text": [
      "0.30833333333333335\n"
     ]
    }
   ],
   "source": [
    "#getting the mean absolute error \n",
    "X_test = test.drop(['Purchased'], axis = 1)\n",
    "y_test = test['Purchased']\n",
    "y_pred_test = log_reg.predict(X_test)\n",
    "\n",
    "print(mean_absolute_error(y_test, y_pred_test))"
   ]
  },
  {
   "cell_type": "code",
   "execution_count": 95,
   "metadata": {},
   "outputs": [
    {
     "name": "stdout",
     "output_type": "stream",
     "text": [
      "AUC score: 0.6458333333333334\n"
     ]
    },
    {
     "data": {
      "image/png": "[encoded data removed]",
      "text/plain": [
       "<Figure size 432x288 with 1 Axes>"
      ]
     },
     "metadata": {
      "needs_background": "light"
     },
     "output_type": "display_data"
    }
   ],
   "source": [
    "#Plottting the ROC curve and printing the AUC score\n",
    "def get_roc_score(y, y_pred):\n",
    "    fpr, tpr, thresholds = roc_curve(y, y_pred)\n",
    "    plt.plot([0,1],[0,1],'b--' ,label = 'Identity')\n",
    "    plt.plot(fpr, tpr, 'r' ,label = 'ROC curve' )\n",
    "    plt.legend()\n",
    "    print(\"AUC score: \"+str(roc_auc_score(y, y_pred)))\n",
    "get_roc_score(y_test, y_pred_test)"
   ]
  },
  {
   "cell_type": "code",
   "execution_count": 10,
   "metadata": {},
   "outputs": [],
   "source": [
    "#Now let's do some feature selection using chi^2 test\n",
    "from sklearn.feature_selection import SelectKBest, chi2"
   ]
  },
  {
   "cell_type": "code",
   "execution_count": 96,
   "metadata": {},
   "outputs": [
    {
     "name": "stdout",
     "output_type": "stream",
     "text": [
      "Variables utilizadas: \n",
      "EstimatedSalary\n",
      "\n",
      "AUC score: 0.5\n",
      "0.4 1 variables \n",
      "\n",
      "Variables utilizadas: \n",
      "Age\n",
      "EstimatedSalary\n",
      "\n",
      "AUC score: 0.5\n",
      "0.4 2 variables \n",
      "\n",
      "Variables utilizadas: \n",
      "User ID\n",
      "Age\n",
      "EstimatedSalary\n",
      "\n",
      "AUC score: 0.6458333333333334\n",
      "0.30833333333333335 3 variables \n",
      "\n",
      "Variables utilizadas: \n",
      "User ID\n",
      "Age\n",
      "EstimatedSalary\n",
      "Gender_Male\n",
      "\n",
      "AUC score: 0.6458333333333334\n",
      "0.30833333333333335 4 variables \n",
      "\n",
      "Variables utilizadas: \n",
      "User ID\n",
      "Age\n",
      "EstimatedSalary\n",
      "Gender_Female\n",
      "Gender_Male\n",
      "\n",
      "AUC score: 0.6458333333333334\n",
      "0.30833333333333335 5 variables \n",
      "\n"
     ]
    },
    {
     "data": {
      "image/png": "[encoded data removed]",
      "text/plain": [
       "<Figure size 432x288 with 1 Axes>"
      ]
     },
     "metadata": {
      "needs_background": "light"
     },
     "output_type": "display_data"
    }
   ],
   "source": [
    "for i in range(1,6):\n",
    "    selector = SelectKBest(chi2, k = i).fit(X_train, y_train)\n",
    "    mask = selector.get_support()\n",
    "    print(\"Variables utilizadas: \")\n",
    "    for boolean, feat in zip(mask, X_train):\n",
    "        if boolean:\n",
    "            print(feat)\n",
    "    X_train_f = selector.transform(X_train)\n",
    "    log_reg2 = LogisticRegression(solver = 'lbfgs')\n",
    "    log_reg2.fit(X_train_f, y_train)\n",
    "    X_test_f = selector.transform(X_test)\n",
    "    y_f_pred = log_reg2.predict(X_test_f)\n",
    "    print()\n",
    "    get_roc_score(y_test, y_f_pred)\n",
    "    print(mean_absolute_error(y_f_pred, y_test), str(i)+\" variables \\n\")\n"
   ]
  },
  {
   "cell_type": "markdown",
   "metadata": {},
   "source": [
    "Some key things to notice, the logistic regression is not that good! The best we can do is a 64% AUC score and a 30% mean absolute error. Can we improve our model? We'll attempt now using linear discriminant analysis."
   ]
  },
  {
   "cell_type": "code",
   "execution_count": 92,
   "metadata": {},
   "outputs": [
    {
     "name": "stderr",
     "output_type": "stream",
     "text": [
      "/home/a_garval/anaconda3/lib/python3.7/site-packages/sklearn/discriminant_analysis.py:388: UserWarning: Variables are collinear.\n",
      "  warnings.warn(\"Variables are collinear.\")\n"
     ]
    },
    {
     "data": {
      "text/plain": [
       "LinearDiscriminantAnalysis(n_components=None, priors=None, shrinkage=None,\n",
       "                           solver='svd', store_covariance=False, tol=0.0001)"
      ]
     },
     "execution_count": 92,
     "metadata": {},
     "output_type": "execute_result"
    }
   ],
   "source": [
    "from sklearn.discriminant_analysis import LinearDiscriminantAnalysis\n",
    "\n",
    "#Creating and fitting the model\n",
    "clf = LinearDiscriminantAnalysis()\n",
    "clf.fit(X_train, y_train)"
   ]
  },
  {
   "cell_type": "markdown",
   "metadata": {},
   "source": [
    "Note: The warning above is due to the obvious fact that the columns \"male\" and \"female\" are _very_ correlated. We take care of the warning with a $\\chi^2$ selector later."
   ]
  },
  {
   "cell_type": "code",
   "execution_count": 97,
   "metadata": {},
   "outputs": [
    {
     "name": "stdout",
     "output_type": "stream",
     "text": [
      "0.175\n",
      "AUC score: 0.8055555555555556\n"
     ]
    },
    {
     "data": {
      "image/png": "[encoded data removed]",
      "text/plain": [
       "<Figure size 432x288 with 1 Axes>"
      ]
     },
     "metadata": {
      "needs_background": "light"
     },
     "output_type": "display_data"
    }
   ],
   "source": [
    "y_ld = clf.predict(X_test)\n",
    "print(mean_absolute_error(y_test, y_ld))\n",
    "get_roc_score(y_test, y_ld)"
   ]
  },
  {
   "cell_type": "markdown",
   "metadata": {},
   "source": [
    "As we can see, we got a much better ROC curve and a much better AUC score. The mean absolute error is much smaller (10%). Even so, can we improve with feature selection?"
   ]
  },
  {
   "cell_type": "code",
   "execution_count": 100,
   "metadata": {},
   "outputs": [
    {
     "name": "stdout",
     "output_type": "stream",
     "text": [
      "Variables utilizadas: \n",
      "EstimatedSalary\n",
      "\n",
      "AUC score: 0.6458333333333334\n",
      "0.30833333333333335 1 variables \n",
      "\n",
      "Variables utilizadas: \n",
      "Age\n",
      "EstimatedSalary\n",
      "\n",
      "AUC score: 0.8055555555555556\n",
      "0.175 2 variables \n",
      "\n",
      "Variables utilizadas: \n",
      "User ID\n",
      "Age\n",
      "EstimatedSalary\n",
      "\n",
      "AUC score: 0.8055555555555556\n",
      "0.175 3 variables \n",
      "\n",
      "Variables utilizadas: \n",
      "User ID\n",
      "Age\n",
      "EstimatedSalary\n",
      "Gender_Male\n",
      "\n",
      "AUC score: 0.8055555555555556\n",
      "0.175 4 variables \n",
      "\n"
     ]
    },
    {
     "data": {
      "image/png": "[encoded data removed]",
      "text/plain": [
       "<Figure size 432x288 with 1 Axes>"
      ]
     },
     "metadata": {
      "needs_background": "light"
     },
     "output_type": "display_data"
    }
   ],
   "source": [
    "for i in range(1,5):\n",
    "    selector = SelectKBest(chi2, k = i).fit(X_train, y_train)\n",
    "    mask = selector.get_support()\n",
    "    print(\"Variables utilizadas: \")\n",
    "    for boolean, feat in zip(mask, X_train):\n",
    "        if boolean:\n",
    "            print(feat)\n",
    "    X_train_f = selector.transform(X_train)\n",
    "    X_test_f = selector.transform(X_test)\n",
    "    \n",
    "    clf_2 = LinearDiscriminantAnalysis()\n",
    "    clf_2.fit(X_train_f, y_train)\n",
    "    X_test_f = selector.transform(X_test)\n",
    "    y_f_pred = clf_2.predict(X_test_f)\n",
    "    print()\n",
    "    get_roc_score(y_test, y_f_pred)\n",
    "    print(mean_absolute_error(y_f_pred, y_test), str(i)+\" variables \\n\")"
   ]
  },
  {
   "cell_type": "markdown",
   "metadata": {},
   "source": [
    "As we can see, we can do better predictions with linear discriminant analysis instead of the logistic regression. However, it's good to know how to do logit regression and to check by ourselves which method is better."
   ]
  }
 ],
 "metadata": {
  "kernelspec": {
   "display_name": "Python 3",
   "language": "python",
   "name": "python3"
  },
  "language_info": {
   "codemirror_mode": {
    "name": "ipython",
    "version": 3
   },
   "file_extension": ".py",
   "mimetype": "text/x-python",
   "name": "python",
   "nbconvert_exporter": "python",
   "pygments_lexer": "ipython3",
   "version": "3.7.4"
  }
 },
 "nbformat": 4,
 "nbformat_minor": 2
}
