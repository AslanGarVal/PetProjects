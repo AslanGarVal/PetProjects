{
 "cells": [
  {
   "cell_type": "code",
   "execution_count": 3,
   "metadata": {},
   "outputs": [],
   "source": [
    "import numpy as np\n",
    "import matplotlib.pyplot as plt"
   ]
  },
  {
   "cell_type": "markdown",
   "metadata": {},
   "source": [
    "## Regresión lineal con descenso del gradiente\n",
    "\n",
    "Dado un conjunto de características $X$ y un conjunto de respuestas $Y$ supondremos que se relacionan de la siguiente forma:\n",
    "\n",
    "$$Y = W\\cdot X + b$$\n",
    "\n",
    "Lo que queremos hacer es determinar los $W$ que mejor se ajustan a los datos. Para esto propondremos la siguiente función a minimizar (convencionalmente llamada \"función coste\"):\n",
    "\n",
    "$$\\mathscr{L}(y, a) = \\frac1m\\sum_{i=1}^m(y_i - a_i)^2$$\n",
    "\n",
    "con $a_i = W\\cdot X_i + b$. \n",
    "\n",
    "### Minimización de la función coste\n",
    "\n",
    "Existen varios métodos para minimizar (incluso este problema tiene una solución analítica) pero aquí utilizaremos descenso del gradiente. Comenzamos en un punto inicial $(W_0, b_0)$ (aleatorio) y calculamos el gradiente de la función en este punto. Con esto podemos actualizar iterativamente:\n",
    "\n",
    "$$W_0 := W_0 - \\alpha \\nabla_W \\mathscr{L}$$\n",
    "$$b_0 := b_0 - \\alpha \\nabla_n \\mathscr{L}$$\n",
    "\n",
    "En nuestro caso particular:\n",
    "\n",
    "$$\\nabla_W \\mathscr{L} = -2(y-a)X^T$$\n",
    "$$\\nabla_b \\mathscr{L} = -2(y-a)$$\n",
    "\n",
    "con $a = W\\cdot X + b$. \n",
    "\n",
    "Este proceso se realiza hasta que haya convergencia hacia un mínimo. En este caso, no checamos convergencia pero lo realizamos 10,000 veces. Como es un problema relativamente sencillo, converge en relativamente pocos pasos."
   ]
  },
  {
   "cell_type": "code",
   "execution_count": 4,
   "metadata": {},
   "outputs": [],
   "source": [
    "#Creemos datos unimensionales de prueba\n",
    "\n",
    "x = np.random.randn(1,20)\n",
    "#Los parámetros reales de nuestros datos sintéticos\n",
    "w_true = np.array([2.]).reshape(1,-1)\n",
    "b_true = np.array([[7.5]])\n",
    "y = np.dot(w_true.T, x) + b_true\n",
    "#Les añadimos algo de ruido gaussiano para que no esté tan fácil\n",
    "y = y+0.15*np.random.randn(1,20)"
   ]
  },
  {
   "cell_type": "code",
   "execution_count": 10,
   "metadata": {},
   "outputs": [],
   "source": [
    "w,b = grad_desc(np.random.randn(1,1), np.zeros((1,1)),y,x, alpha = 0.1)\n",
    "t = np.linspace(x.min(), x.max())\n",
    "y_pred = [w.item()*i + b.item() for i in t]"
   ]
  },
  {
   "cell_type": "code",
   "execution_count": 11,
   "metadata": {},
   "outputs": [
    {
     "data": {
      "text/plain": [
       "[<matplotlib.lines.Line2D at 0x7f79f6182670>]"
      ]
     },
     "execution_count": 11,
     "metadata": {},
     "output_type": "execute_result"
    },
    {
     "data": {
      "image/png": "[encoded data removed]",
      "text/plain": [
       "<Figure size 432x288 with 1 Axes>"
      ]
     },
     "metadata": {
      "needs_background": "light"
     },
     "output_type": "display_data"
    }
   ],
   "source": [
    "plt.plot(x[0],y[0], 'bo')\n",
    "plt.plot(t,y_pred)\n",
    "#Los puntos son nuestros datos sintéticos\n",
    "#La recta es aquella generada por nuestro algoritmo.\n",
    "#Como vemos, el algoritmo funciona bastante bien"
   ]
  },
  {
   "cell_type": "code",
   "execution_count": 7,
   "metadata": {},
   "outputs": [],
   "source": [
    "def cost_function(y, a):\n",
    "    \"\"\"\n",
    "    Regresa el error cuadratico medio entre las observaciones y\n",
    "    y las predicciones a.\n",
    "    \n",
    "    Parametros:\n",
    "    y -- un vector de etiquetas con forma (n_y, 1)\n",
    "    a -- un vector de predicciones con forma (n_y, 1)\n",
    "    \"\"\"\n",
    "    difference = (y-a)*(y-a)\n",
    "    return 1/(y.shape[1])*np.sum(difference, axis = 1).item()"
   ]
  },
  {
   "cell_type": "code",
   "execution_count": 8,
   "metadata": {},
   "outputs": [],
   "source": [
    "def grad(w, b, y, x):\n",
    "    \"\"\"\n",
    "    Regresa el gradiente de la función costo con respecto a w y b\n",
    "    \n",
    "    Parametros:\n",
    "    w -- la matriz de pesos en la que vamos a evaluar el gradiente de w\n",
    "    b -- el vector de sesgos en la que vamos a evaluar el gradiente de b\n",
    "    y -- el vector de etiquetas de los datos de entrenamiento\n",
    "    x -- la matriz de los datos de entrenamiento\n",
    "    \"\"\"\n",
    "    a = np.dot(w,x) + b\n",
    "    grad_w = -2/(y.shape[1])*np.dot((y-a),x.T)\n",
    "    grad_b = -2/(y.shape[1])*np.sum((y-a), axis = 1)\n",
    "    return grad_w, grad_b"
   ]
  },
  {
   "cell_type": "code",
   "execution_count": 9,
   "metadata": {},
   "outputs": [],
   "source": [
    "def grad_desc(w_initial, b_initial, y, x, alpha):\n",
    "    \"\"\"\n",
    "    Esta función se encarga de hacer el descenso de gradiente\n",
    "    con 10000 iteraciones.\n",
    "    \n",
    "    Parameters:\n",
    "    w_initial -- nuestro guess inicial para w\n",
    "    b_initial -- nuestro guess inicial para b\n",
    "    y -- los labels de los datos de entrenamiento\n",
    "    x -- datos de entrenamiento\n",
    "    alpha -- la constante por la que multiplicaremos el gradiente\n",
    "    \"\"\"\n",
    "    max_iter = 10000\n",
    "    for i in range(max_iter):\n",
    "        dw, db = grad(w_initial, b_initial, y, x)\n",
    "        w_initial = w_initial - alpha*dw\n",
    "        b_initial = b_initial - alpha*db\n",
    "    return w_initial, b_initial\n",
    "        "
   ]
  },
  {
   "cell_type": "code",
   "execution_count": 15,
   "metadata": {},
   "outputs": [],
   "source": [
    "#Simplemente una breve vreificación de que nuestras\n",
    "#funciones no tienen problema con datos de más dimensiones\n",
    "X = np.random.randn(3,10)\n",
    "W_true = np.array([1., 0.5, 3.75]).reshape([1,-1])\n",
    "Y = np.dot(W_true, X) + [[5.25]]\n",
    "Y = Y + 0.25*np.random.randn(1,10)"
   ]
  },
  {
   "cell_type": "code",
   "execution_count": 16,
   "metadata": {},
   "outputs": [],
   "source": [
    "W_0 = np.random.randn(1,3)\n",
    "b_0 = np.zeros((1,1))"
   ]
  },
  {
   "cell_type": "code",
   "execution_count": 17,
   "metadata": {},
   "outputs": [
    {
     "data": {
      "text/plain": [
       "(array([[0.90156659, 0.36825101, 3.75895632]]), array([[5.27506851]]))"
      ]
     },
     "execution_count": 17,
     "metadata": {},
     "output_type": "execute_result"
    }
   ],
   "source": [
    "grad_desc(W_0, b_0, Y, X, alpha = 0.5)"
   ]
  }
 ],
 "metadata": {
  "kernelspec": {
   "display_name": "Python 3",
   "language": "python",
   "name": "python3"
  },
  "language_info": {
   "codemirror_mode": {
    "name": "ipython",
    "version": 3
   },
   "file_extension": ".py",
   "mimetype": "text/x-python",
   "name": "python",
   "nbconvert_exporter": "python",
   "pygments_lexer": "ipython3",
   "version": "3.8.3"
  }
 },
 "nbformat": 4,
 "nbformat_minor": 4
}
